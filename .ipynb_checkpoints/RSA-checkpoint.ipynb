{
 "cells": [
  {
   "cell_type": "code",
   "execution_count": 1,
   "metadata": {},
   "outputs": [],
   "source": [
    "def all_primitive_roots(n):\n",
    "\troots=[]\n",
    "\tg=primitive_root(n)\n",
    "\tfor i in range(n):\n",
    "\t\tif gcd(i,n-1)==1:\n",
    "\t\t\troots.append(g^i%n)\n",
    "\troots.sort()\n",
    "\treturn roots"
   ]
  },
  {
   "cell_type": "code",
   "execution_count": 2,
   "metadata": {},
   "outputs": [],
   "source": [
    "def dlog(g,h,n):\n",
    "\t#uses baby step giant step algorithm\n",
    "\tG=Integers(n)\n",
    "\tBabySteps={}\n",
    "\tfor i in range(floor(sqrt(n))):\n",
    "\t\tBabySteps[G(g^i)]=i\n",
    "\tfor i in range(n):\n",
    "\t\tif G(h*g^(-i*floor(sqrt(n)))) in BabySteps.keys():\n",
    "\t\t\tvalue=G(h*g^(-i*floor(sqrt(n))))\n",
    "\t\t\treturn G((BabySteps[value]+i*floor(sqrt(n))))"
   ]
  },
  {
   "cell_type": "code",
   "execution_count": 3,
   "metadata": {},
   "outputs": [],
   "source": [
    "def rsa_private_key_known(p,q,e):\n",
    "\tG=Integers((p-1)*(q-1))\n",
    "\treturn G(e^(-1))"
   ]
  },
  {
   "cell_type": "code",
   "execution_count": 4,
   "metadata": {},
   "outputs": [],
   "source": [
    "def rsa_private_key_break(n,e):\n",
    "\tp=factor(n)[0][0]\n",
    "\tq=factor(n)[1][0]\n",
    "\treturn rsa_private_key_known(p,q,e)"
   ]
  },
  {
   "cell_type": "code",
   "execution_count": 5,
   "metadata": {},
   "outputs": [],
   "source": [
    "def rsa_public_key(p,q,e):\n",
    "\treturn [p*q,e]"
   ]
  },
  {
   "cell_type": "code",
   "execution_count": 6,
   "metadata": {},
   "outputs": [],
   "source": [
    "def rsa_encrypt(n,e,m):\n",
    "\treturn power_mod()"
   ]
  },
  {
   "cell_type": "code",
   "execution_count": 8,
   "metadata": {},
   "outputs": [
    {
     "data": {
      "text/plain": [
       "1"
      ]
     },
     "execution_count": 8,
     "metadata": {},
     "output_type": "execute_result"
    }
   ],
   "source": [
    "power_mod(3,2,4)"
   ]
  },
  {
   "cell_type": "code",
   "execution_count": null,
   "metadata": {},
   "outputs": [],
   "source": [
    "\n"
   ]
  }
 ],
 "metadata": {
  "kernelspec": {
   "display_name": "SageMath 8.9",
   "language": "sage",
   "name": "sagemath"
  },
  "language_info": {
   "codemirror_mode": {
    "name": "ipython",
    "version": 2
   },
   "file_extension": ".py",
   "mimetype": "text/x-python",
   "name": "python",
   "nbconvert_exporter": "python",
   "pygments_lexer": "ipython2",
   "version": "2.7.15"
  }
 },
 "nbformat": 4,
 "nbformat_minor": 4
}
