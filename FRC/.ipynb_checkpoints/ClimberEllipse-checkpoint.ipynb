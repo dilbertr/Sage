{
 "cells": [
  {
   "cell_type": "code",
   "execution_count": 43,
   "metadata": {
    "scrolled": true
   },
   "outputs": [
    {
     "data": {
      "text/plain": [
       "-((h*sqrt(-x^2/(h^2 + 196) + 1) - c_y + 28)*h*x/((h^2 + 196)*sqrt(-x^2/(h^2 + 196) + 1)) + c_x - x)/sqrt((h*sqrt(-x^2/(h^2 + 196) + 1) - c_y + 28)^2 + (c_x - x)^2)"
      ]
     },
     "execution_count": 43,
     "metadata": {},
     "output_type": "execute_result"
    }
   ],
   "source": [
    "derivative(sqrt((x-c_x)^2+(28+h*sqrt(1-((x)^2)/(h^2+196))-c_y)^2),x)"
   ]
  },
  {
   "cell_type": "code",
   "execution_count": 39,
   "metadata": {
    "scrolled": true
   },
   "outputs": [
    {
     "data": {
      "text/plain": [
       "\\left[x = \\frac{{\\left(h^{2} + 196\\right)} c_{x} \\sqrt{\\frac{h^{2} - x^{2} + 196}{h^{2} + 196}}}{c_{y} h - 28 \\, h + 196 \\, \\sqrt{\\frac{h^{2} - x^{2} + 196}{h^{2} + 196}}}\\right]"
      ]
     },
     "execution_count": 39,
     "metadata": {},
     "output_type": "execute_result"
    }
   ],
   "source": [
    "latex(_)"
   ]
  },
  {
   "cell_type": "code",
   "execution_count": 44,
   "metadata": {
    "scrolled": true
   },
   "outputs": [
    {
     "data": {
      "text/plain": [
       "[x == (h^2 + 196)*c_x*sqrt((h^2 - x^2 + 196)/(h^2 + 196))/(c_y*h - 28*h + 196*sqrt((h^2 - x^2 + 196)/(h^2 + 196)))]"
      ]
     },
     "execution_count": 44,
     "metadata": {},
     "output_type": "execute_result"
    }
   ],
   "source": [
    "solve(_==0,x)"
   ]
  },
  {
   "cell_type": "code",
   "execution_count": 42,
   "metadata": {},
   "outputs": [],
   "source": [
    "c_x,y_0,x,h=var('c_x c_y x h')"
   ]
  },
  {
   "cell_type": "code",
   "execution_count": 20,
   "metadata": {},
   "outputs": [
    {
     "data": {
      "text/plain": [
       "[x == (b*(o - 28)*sqrt((b^2 - x^2 + 56*x - 784)/b^2) + 28*l - 784)/(l - 28)]"
      ]
     },
     "execution_count": 20,
     "metadata": {},
     "output_type": "execute_result"
    }
   ],
   "source": [
    "solve(_,x)"
   ]
  },
  {
   "cell_type": "code",
   "execution_count": 32,
   "metadata": {},
   "outputs": [
    {
     "data": {
      "text/plain": [
       "\\sqrt{{\\left(h \\sqrt{-\\frac{{\\left(x - 28\\right)}^{2}}{h^{2}} + 1} - y + 28\\right)}^{2} + {\\left(o - x\\right)}^{2}}"
      ]
     },
     "execution_count": 32,
     "metadata": {},
     "output_type": "execute_result"
    }
   ],
   "source": [
    "latex(sqrt((x-x_0)^2+(28+b*sqrt(1-(x-28)^2/b^2)-y_0)^2))"
   ]
  },
  {
   "cell_type": "code",
   "execution_count": null,
   "metadata": {},
   "outputs": [],
   "source": []
  }
 ],
 "metadata": {
  "kernelspec": {
   "display_name": "SageMath 8.9",
   "language": "sage",
   "name": "sagemath"
  },
  "language_info": {
   "codemirror_mode": {
    "name": "ipython",
    "version": 2
   },
   "file_extension": ".py",
   "mimetype": "text/x-python",
   "name": "python",
   "nbconvert_exporter": "python",
   "pygments_lexer": "ipython2",
   "version": "2.7.15"
  }
 },
 "nbformat": 4,
 "nbformat_minor": 2
}
