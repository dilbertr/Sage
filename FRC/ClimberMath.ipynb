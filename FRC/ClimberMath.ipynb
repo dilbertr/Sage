{
 "cells": [
  {
   "cell_type": "code",
   "execution_count": 25,
   "metadata": {},
   "outputs": [],
   "source": [
    "initialh=54 #Max height from the top of the robot (winch) to the hook"
   ]
  },
  {
   "cell_type": "code",
   "execution_count": 26,
   "metadata": {},
   "outputs": [],
   "source": [
    "finalh=12 #Height from the top of the robot to the hook when climbing is complete"
   ]
  },
  {
   "cell_type": "code",
   "execution_count": 27,
   "metadata": {},
   "outputs": [],
   "source": [
    "def start(x): #Length of the total amount of string when the elevator is fully extended. (red+green)\n",
    "    #x = distance from the elevator to the back of the robot.\n",
    "    leftbottom=2*sqrt((15+1/2)^2+14^2+12^2)\n",
    "    lefttop=sqrt(initialh^2+x^2)-sqrt((15+1/2)^2+12^2)\n",
    "    right=sqrt((31-x)^2+initialh^2)\n",
    "    return leftbottom+lefttop+right"
   ]
  },
  {
   "cell_type": "code",
   "execution_count": 33,
   "metadata": {},
   "outputs": [
    {
     "data": {
      "text/plain": [
       "141.432206716339"
      ]
     },
     "execution_count": 33,
     "metadata": {},
     "output_type": "execute_result"
    }
   ],
   "source": [
    "n(start(10))"
   ]
  },
  {
   "cell_type": "code",
   "execution_count": 16,
   "metadata": {},
   "outputs": [],
   "source": [
    "def verystart(x): #Total length of string during the majority of the match. (red+green)\n",
    "    return sqrt(2321) - 1/2*sqrt(1537) + 25 + 6 - x"
   ]
  },
  {
   "cell_type": "code",
   "execution_count": 17,
   "metadata": {},
   "outputs": [],
   "source": [
    "end=2*sqrt((15+1/2)^2+14^2+finalh^2)+sqrt(finalh^2+(15+1/2)^2) #(red+green)\n",
    "#Total length of string after climbing"
   ]
  },
  {
   "cell_type": "code",
   "execution_count": 18,
   "metadata": {},
   "outputs": [],
   "source": [
    "def change(x): #delta (red+green) from t=2:24 to t=2:30\n",
    "    return start(x)-end"
   ]
  },
  {
   "cell_type": "code",
   "execution_count": 19,
   "metadata": {},
   "outputs": [],
   "source": [
    "def tension(direc_num,vertical,vectorh):\n",
    "    return vectorh*vertical/vectorh[direc_num]"
   ]
  },
  {
   "cell_type": "code",
   "execution_count": 20,
   "metadata": {
    "scrolled": true
   },
   "outputs": [
    {
     "data": {
      "text/plain": [
       "(53.2812500000000, 41.2500000000000, 0.000000000000000)"
      ]
     },
     "execution_count": 20,
     "metadata": {},
     "output_type": "execute_result"
    }
   ],
   "source": [
    "tension(1,165/4,vector([15.5,12,0])) #calculates the components of the tension vector on the strings not\n",
    "#attached to the winch, (one of the green)"
   ]
  },
  {
   "cell_type": "code",
   "execution_count": 21,
   "metadata": {},
   "outputs": [
    {
     "data": {
      "text/plain": [
       "67.3828917571998"
      ]
     },
     "execution_count": 21,
     "metadata": {},
     "output_type": "execute_result"
    }
   ],
   "source": [
    "_.norm() #total tension on one of the strings stated above"
   ]
  },
  {
   "cell_type": "code",
   "execution_count": null,
   "metadata": {},
   "outputs": [],
   "source": []
  }
 ],
 "metadata": {
  "kernelspec": {
   "display_name": "SageMath 8.9",
   "language": "sage",
   "name": "sagemath"
  },
  "language_info": {
   "codemirror_mode": {
    "name": "ipython",
    "version": 2
   },
   "file_extension": ".py",
   "mimetype": "text/x-python",
   "name": "python",
   "nbconvert_exporter": "python",
   "pygments_lexer": "ipython2",
   "version": "2.7.15"
  }
 },
 "nbformat": 4,
 "nbformat_minor": 2
}
